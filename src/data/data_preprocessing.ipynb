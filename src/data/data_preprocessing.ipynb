{
 "cells": [
  {
   "attachments": {},
   "cell_type": "markdown",
   "metadata": {},
   "source": [
    "Data Prepocesssing"
   ]
  },
  {
   "cell_type": "code",
   "execution_count": 14,
   "metadata": {},
   "outputs": [],
   "source": [
    "import os\n",
    "\n",
    "import numpy as np\n",
    "import pandas as pd\n",
    "\n",
    "import librosa\n",
    "import librosa.display\n",
    "import soundfile as sf \n",
    "\n",
    "import matplotlib.pyplot as plt\n",
    "import IPython.display as ipd\n",
    "\n",
    "from sklearn.model_selection import train_test_split\n",
    "from sklearn.preprocessing import StandardScaler\n",
    "from sklearn.decomposition import PCA\n",
    "from sklearn.neighbors import KNeighborsClassifier\n",
    "from sklearn.model_selection import GridSearchCV\n",
    "from sklearn.metrics import confusion_matrix"
   ]
  },
  {
   "cell_type": "code",
   "execution_count": null,
   "metadata": {},
   "outputs": [],
   "source": [
    "def mean_mfccs(x):\n",
    "    return [np.mean(feature) for feature in librosa.feature.mfcc(x)]\n",
    "\n",
    "def parse_audio(x):\n",
    "    return x.flatten('F')[:x.shape[0]] \n",
    "\n",
    "def get_audios():\n",
    "    train_path = \"../input/train/Train/\"\n",
    "    train_file_names = os.listdir(train_path)\n",
    "    train_file_names.sort(key=lambda x: int(x.partition('.')[0]))\n",
    "    \n",
    "    samples = []\n",
    "    for file_name in train_file_names:\n",
    "        x, sr = sf.read(train_path + file_name, always_2d=True)\n",
    "        x = parse_audio(x)\n",
    "        samples.append(mean_mfccs(x))\n",
    "        \n",
    "    return np.array(samples)\n",
    "\n",
    "def get_samples():\n",
    "    df = pd.read_csv('../input/train.csv')\n",
    "    return get_audios(), df['Class'].values\n",
    "\n",
    "X, Y = get_samples()\n",
    "X_train, X_test, Y_train, Y_test = train_test_split(X, Y, test_size=0.2, random_state=42)\n",
    "\n",
    "print(f'Shape: {X_train.shape}')\n",
    "print(f'Observation: \\n{X_train[0]}')\n",
    "print(f'Labels: {Y_train[:5]}')"
   ]
  },
  {
   "cell_type": "code",
   "execution_count": null,
   "metadata": {},
   "outputs": [],
   "source": [
    "scaler = StandardScaler()\n",
    "scaler.fit(X_train)\n",
    "X_train = scaler.transform(X_train)\n",
    "X_test = scaler.transform(X_test)\n",
    "\n",
    "pca = PCA(n_components=2)\n",
    "pca.fit(X_train)\n",
    "X_train = pca.transform(X_train)\n",
    "X_test = pca.transform(X_test)\n",
    "\n",
    "classifier = KNeighborsClassifier(n_neighbors=3)\n",
    "classifier.fit(X_train, Y_train)\n",
    "\n",
    "y_pred = classifier.predict(X_test)\n",
    "\n",
    "cm = confusion_matrix(Y_test, y_pred)\n",
    "print(cm)\n",
    "\n"
   ]
  },
  {
   "cell_type": "code",
   "execution_count": 31,
   "metadata": {},
   "outputs": [
    {
     "name": "stderr",
     "output_type": "stream",
     "text": [
      "No artists with labels found to put in legend.  Note that artists whose label start with an underscore are ignored when legend() is called with no argument.\n"
     ]
    },
    {
     "data": {
      "image/png": "[encoded data removed]",
      "text/plain": [
       "<Figure size 640x480 with 3 Axes>"
      ]
     },
     "metadata": {},
     "output_type": "display_data"
    }
   ],
   "source": [
    "path = '..\\\\Audio\\\\T'\n",
    "# for audio_file in os.listdir(path):\n",
    "# \ty, sr = librosa.load('\\\\'.join((path,audio_file)), sr = 32000)\n",
    "# \tlibrosa.display.waveshow(y[:int(sr*6.7)], max_points=11025, axis='s')\n",
    "\n",
    "fig, ax = plt.subplots(nrows=3, sharex=True)\n",
    "y, sr = librosa.load('\\\\'.join((path,'T1.wav')), sr = 32000)\n",
    "y_harm, y_perc = librosa.effects.hpss(y)\n",
    "# librosa.display.waveshow(y_harm, sr=sr, alpha=0.5, ax=ax[2], label='Harmonic')\n",
    "librosa.display.waveshow(y_perc, sr=sr, color='r', alpha=0.5, ax=ax[2], label='Percussive')\n",
    "ax[2].set(title='Multiple waveforms')\n",
    "ax[2].legend()\n",
    "plt.show()"
   ]
  }
 ],
 "metadata": {
  "kernelspec": {
   "display_name": "env",
   "language": "python",
   "name": "python3"
  },
  "language_info": {
   "codemirror_mode": {
    "name": "ipython",
    "version": 3
   },
   "file_extension": ".py",
   "mimetype": "text/x-python",
   "name": "python",
   "nbconvert_exporter": "python",
   "pygments_lexer": "ipython3",
   "version": "3.10.10"
  },
  "orig_nbformat": 4
 },
 "nbformat": 4,
 "nbformat_minor": 2
}
